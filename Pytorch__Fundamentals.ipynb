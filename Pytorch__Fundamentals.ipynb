{
  "nbformat": 4,
  "nbformat_minor": 0,
  "metadata": {
    "colab": {
      "provenance": [],
      "gpuType": "T4"
    },
    "kernelspec": {
      "name": "python3",
      "display_name": "Python 3"
    },
    "language_info": {
      "name": "python"
    },
    "accelerator": "GPU"
  },
  "cells": [
    {
      "cell_type": "code",
      "execution_count": null,
      "metadata": {
        "id": "YCoeq97FBton",
        "cellView": "form",
        "colab": {
          "base_uri": "https://localhost:8080/"
        },
        "outputId": "35fcc04e-7239-466a-a9cf-0feec9753a85"
      },
      "outputs": [
        {
          "output_type": "stream",
          "name": "stdout",
          "text": [
            "2.3.0+cu121\n"
          ]
        },
        {
          "output_type": "execute_result",
          "data": {
            "text/plain": [
              "tensor([2., 3., 5.], dtype=torch.float16)"
            ]
          },
          "metadata": {},
          "execution_count": 1
        }
      ],
      "source": [
        "# @title Default title text\n",
        "import torch\n",
        "print(torch.__version__)\n",
        "\n",
        "\n",
        "# how to create a tensor\n",
        "#scalar\n",
        "scalar=torch.tensor(7)\n",
        "scalar\n",
        "scalar.ndim\n",
        "#get tensor back as item int\n",
        "scalar.item()\n",
        "#vector\n",
        "vector=torch.tensor([7,7])\n",
        "vector\n",
        "vector.ndim\n",
        "vector.shape\n",
        "#MATRIX\n",
        "MATRIX=torch.tensor([[2,5],[3,6]])\n",
        "MATRIX\n",
        "MATRIX.ndim\n",
        "MATRIX[0]\n",
        "#Tensor\n",
        "TENSOR=torch.tensor([[[1,2,3],[4,5,6],[7,8,9]]])\n",
        "TENSOR.ndim\n",
        "TENSOR.shape\n",
        "TENSOR[0]\n",
        "### Random Tensors\n",
        "random_tensor=torch.rand(3,4)\n",
        "random_tensor\n",
        "## Random tensor similar to the shape of the image tensor\n",
        "##random_image_tensor=torch.rand(size=(height,width,no of color channels))(red,green,blue)\n",
        "random_image_tensor=torch.rand(size=(224,224,3))\n",
        "random_image_tensor\n",
        "###create a tensor of all zeros\n",
        "zeros=torch.zeros(3,4)\n",
        "zeros\n",
        "#similarly for one\n",
        "ones=torch.ones(3,4)\n",
        "ones.dtype\n",
        "#use torch.arange()\n",
        "cutie=torch.arange(0,10,1)\n",
        "##creating tensor like\n",
        "ten_zeros=torch.zeros_like(input=cutie)\n",
        "#Tensor datatypes\n",
        "#float 32 tensor\n",
        "torch.tensor([2,3,5],dtype=torch.float16,device=None,requires_grad=False)#wether or not to track gradients with this tensor operation\n",
        "\n",
        "\n"
      ]
    },
    {
      "cell_type": "code",
      "source": [
        "tensor_float16=torch.tensor([1,2,3],dtype=torch.float16)\n",
        "tensor_float32=torch.tensor([1,2,3],dtype=torch.float32)\n",
        "tensor_float16*tensor_float32\n",
        "\n"
      ],
      "metadata": {
        "id": "90ydps3hMUTa",
        "colab": {
          "base_uri": "https://localhost:8080/"
        },
        "outputId": "97af61cf-2c4e-4f7e-a5cb-ffc679679529"
      },
      "execution_count": null,
      "outputs": [
        {
          "output_type": "execute_result",
          "data": {
            "text/plain": [
              "tensor([1., 4., 9.])"
            ]
          },
          "metadata": {},
          "execution_count": 2
        }
      ]
    },
    {
      "cell_type": "code",
      "source": [
        "some_tensor=torch.rand([3,3])\n",
        "print(some_tensor)\n",
        "print(f\"shape of tensor: {some_tensor.shape}\")\n",
        "print(f\"Datatype of tensor: {some_tensor.dtype}\")\n",
        "print(f\"Device tensor is stored on: {some_tensor.device}\")"
      ],
      "metadata": {
        "id": "7vAvewepPUV3",
        "colab": {
          "base_uri": "https://localhost:8080/"
        },
        "outputId": "ff9791f2-4617-4561-af34-9a80b8e62025"
      },
      "execution_count": null,
      "outputs": [
        {
          "output_type": "stream",
          "name": "stdout",
          "text": [
            "tensor([[0.9878, 0.9078, 0.2862],\n",
            "        [0.5175, 0.3167, 0.0301],\n",
            "        [0.1509, 0.4917, 0.5298]])\n",
            "shape of tensor: torch.Size([3, 3])\n",
            "Datatype of tensor: torch.float32\n",
            "Device tensor is stored on: cpu\n"
          ]
        }
      ]
    },
    {
      "cell_type": "code",
      "source": [
        "#manipulating tensors (tensor operation)\n",
        "tensor=torch.tensor([1,2,3])\n",
        "tensor+10\n",
        "tensor*10\n",
        "tensor-10\n",
        "tensor.mul(10)\n",
        "tensor.add_(5)\n",
        "# matrix multiplication (element wise, matrix multiplication(dot product))\n",
        "print(f\" EQUALS : {tensor*tensor}\")\n",
        "torch.matmul(tensor,tensor)\n",
        "\n",
        "\n"
      ],
      "metadata": {
        "id": "myV6TFABRPlB",
        "colab": {
          "base_uri": "https://localhost:8080/"
        },
        "outputId": "be3bb939-c6f2-4bd0-addb-7f4507eaa7c6"
      },
      "execution_count": null,
      "outputs": [
        {
          "output_type": "stream",
          "name": "stdout",
          "text": [
            " EQUALS : tensor([36, 49, 64])\n"
          ]
        },
        {
          "output_type": "execute_result",
          "data": {
            "text/plain": [
              "tensor(149)"
            ]
          },
          "metadata": {},
          "execution_count": 4
        }
      ]
    },
    {
      "cell_type": "code",
      "source": [
        "%%time\n",
        "value=0\n",
        "for i in range(len(tensor)):\n",
        "  value+=tensor[i]*tensor[i]\n",
        "value"
      ],
      "metadata": {
        "id": "-Z5NMoAWlYPW",
        "colab": {
          "base_uri": "https://localhost:8080/"
        },
        "outputId": "cf6e1e3b-fafe-4530-ecf0-5d88ec9deb00"
      },
      "execution_count": null,
      "outputs": [
        {
          "output_type": "stream",
          "name": "stdout",
          "text": [
            "CPU times: user 129 µs, sys: 25 µs, total: 154 µs\n",
            "Wall time: 159 µs\n"
          ]
        },
        {
          "output_type": "execute_result",
          "data": {
            "text/plain": [
              "tensor(149)"
            ]
          },
          "metadata": {},
          "execution_count": 5
        }
      ]
    },
    {
      "cell_type": "code",
      "source": [
        "torch.matmul(torch.rand(3,2),torch.rand(2,3))"
      ],
      "metadata": {
        "id": "T8_JfJPVnGVz",
        "colab": {
          "base_uri": "https://localhost:8080/"
        },
        "outputId": "dcdedd6c-e22f-4acb-91dc-9f05117c9e3f"
      },
      "execution_count": null,
      "outputs": [
        {
          "output_type": "execute_result",
          "data": {
            "text/plain": [
              "tensor([[0.6103, 0.9637, 1.0022],\n",
              "        [0.4368, 0.9331, 0.9407],\n",
              "        [0.0472, 0.4736, 0.4438]])"
            ]
          },
          "metadata": {},
          "execution_count": 6
        }
      ]
    },
    {
      "cell_type": "code",
      "source": [
        "#shape errors(one of the most common error)\n",
        "tensor_A=torch.tensor([[1,2],[3,4],[5,6]])\n",
        "tensor_B=torch.tensor([[7,10],[8,11],[9,12]])\n",
        "torch.mm(tensor_A,tensor_B.T)\n",
        "\n",
        "\n"
      ],
      "metadata": {
        "id": "K7efM0-1nqAq",
        "colab": {
          "base_uri": "https://localhost:8080/"
        },
        "outputId": "15829019-77b0-4409-b2ce-be93705efa7b"
      },
      "execution_count": null,
      "outputs": [
        {
          "output_type": "execute_result",
          "data": {
            "text/plain": [
              "tensor([[ 27,  30,  33],\n",
              "        [ 61,  68,  75],\n",
              "        [ 95, 106, 117]])"
            ]
          },
          "metadata": {},
          "execution_count": 7
        }
      ]
    },
    {
      "cell_type": "code",
      "source": [
        "# WE CAN FIND THE MEAN , MIN, MAX, SUM ETC (TENSOR AGGREGATION )\n",
        "X= torch.arange(0,100,10,dtype=torch.float32)\n",
        "\n",
        "\n",
        "\n",
        "torch.mean(X)\n",
        "torch.argmax(X)\n",
        "torch.argmin(X)\n",
        "\n"
      ],
      "metadata": {
        "id": "5gWCnJIF_t9g",
        "colab": {
          "base_uri": "https://localhost:8080/"
        },
        "outputId": "b419943b-fb69-4ab4-fe4d-156c61ec5ed7"
      },
      "execution_count": null,
      "outputs": [
        {
          "output_type": "execute_result",
          "data": {
            "text/plain": [
              "tensor(0)"
            ]
          },
          "metadata": {},
          "execution_count": 8
        }
      ]
    },
    {
      "cell_type": "code",
      "source": [
        "# Reshaping,stacking,sqeezing and unsqeezing tensors\n",
        "# reshaping - reshapes an input tensor to a defined shape\n",
        "# View m- Return a view of an input tensor of a certain shape but keep the same memory as the orignal sensor\n",
        "#Stacking - combine multiple tensor on top of each other (Vstack) or side by side (hstack)\n",
        "#squeeze - removes all '1' dimensions from a tensor\n",
        "# unsqueeze - adds a '1' dimension to a target tensor\n",
        "#permute - return a view of the input with the dimensions permuted (swapped) in a certain way\n",
        "import torch\n",
        "\n",
        "x=torch.arange(1,10,1)\n",
        "x,x.shape\n",
        "x_reshaped=x.reshape(3,3)\n",
        "x_reshaped,x_reshaped.shape\n",
        "z=x.view(3,3)\n",
        "z,z.shape\n",
        "z[:,0]=5\n",
        "x,z\n",
        "x_stacked=torch.stack([x,x,x,x],dim=1)\n",
        "x_stacked\n",
        "torch.squeeze(x_stacked)\n",
        "torch.unsqueeze(x,dim=0)\n",
        "x_orignal=torch.rand(size=(224,224,3))\n",
        "torch.permute(x_orignal,(2,0,1))\n",
        "\n",
        "\n",
        "\n",
        "\n",
        "\n",
        "\n",
        "\n",
        "\n"
      ],
      "metadata": {
        "id": "Oly5eL0QEDKb",
        "colab": {
          "base_uri": "https://localhost:8080/"
        },
        "outputId": "15f9a7ff-08d1-4315-9cfc-edfa1026f87a"
      },
      "execution_count": null,
      "outputs": [
        {
          "output_type": "execute_result",
          "data": {
            "text/plain": [
              "tensor([[[0.7173, 0.1080, 0.2994,  ..., 0.8995, 0.0356, 0.3965],\n",
              "         [0.0371, 0.5508, 0.1140,  ..., 0.9561, 0.8110, 0.9008],\n",
              "         [0.9221, 0.6564, 0.9936,  ..., 0.4006, 0.0053, 0.3508],\n",
              "         ...,\n",
              "         [0.5544, 0.7440, 0.5905,  ..., 0.9937, 0.3019, 0.6006],\n",
              "         [0.3497, 0.7988, 0.0800,  ..., 0.8665, 0.2635, 0.3712],\n",
              "         [0.9726, 0.4569, 0.7167,  ..., 0.3933, 0.1965, 0.1266]],\n",
              "\n",
              "        [[0.7990, 0.2265, 0.9653,  ..., 0.2403, 0.4309, 0.5802],\n",
              "         [0.7223, 0.2366, 0.5691,  ..., 0.6068, 0.7056, 0.3762],\n",
              "         [0.0280, 0.5176, 0.0871,  ..., 0.9929, 0.6209, 0.8128],\n",
              "         ...,\n",
              "         [0.4124, 0.7044, 0.8057,  ..., 0.6128, 0.4111, 0.5723],\n",
              "         [0.1871, 0.8710, 0.1319,  ..., 0.6812, 0.4258, 0.7296],\n",
              "         [0.8633, 0.1761, 0.5986,  ..., 0.4388, 0.7190, 0.5018]],\n",
              "\n",
              "        [[0.4710, 0.4655, 0.7808,  ..., 0.2522, 0.5231, 0.9776],\n",
              "         [0.0294, 0.9299, 0.8713,  ..., 0.1140, 0.6634, 0.2849],\n",
              "         [0.6372, 0.0488, 0.2240,  ..., 0.7181, 0.1002, 0.6178],\n",
              "         ...,\n",
              "         [0.2638, 0.1385, 0.8481,  ..., 0.4507, 0.8567, 0.2486],\n",
              "         [0.3462, 0.4530, 0.4980,  ..., 0.8584, 0.5421, 0.7822],\n",
              "         [0.3440, 0.5406, 0.3212,  ..., 0.9158, 0.7783, 0.6107]]])"
            ]
          },
          "metadata": {},
          "execution_count": 9
        }
      ]
    },
    {
      "cell_type": "code",
      "source": [
        "# Indexing (selecting data from tensors)\n",
        "import torch\n",
        "x=torch.arange(1,10).reshape(1,3,3)\n",
        "x,x.shape\n",
        "x[0]\n",
        "x[0][0]\n",
        "x[0][0][0]\n",
        "x[0][0][0]=5\n",
        "x\n",
        "x[0][2][2]\n",
        "#you can also use \":\" to select \"all\" of the target elements\n",
        "x[:,0]\n",
        "x[:,:,1]\n",
        "x[:,:,2]\n",
        "\n",
        "\n"
      ],
      "metadata": {
        "id": "FknQnrwwk_tk",
        "colab": {
          "base_uri": "https://localhost:8080/"
        },
        "outputId": "c2a469b4-7d13-4cf4-eded-4469c2e900b0"
      },
      "execution_count": null,
      "outputs": [
        {
          "output_type": "execute_result",
          "data": {
            "text/plain": [
              "tensor([[3, 6, 9]])"
            ]
          },
          "metadata": {},
          "execution_count": 10
        }
      ]
    },
    {
      "cell_type": "code",
      "source": [
        "#pytorch tensors and numpy\n",
        "import torch\n",
        "import numpy as np\n",
        "array=np.arange(1,8)\n",
        "tensor=torch.from_numpy(array)\n",
        "array,tensor.dtype,tensor\n",
        "\n",
        "\n"
      ],
      "metadata": {
        "id": "8La7Kj-2URVv",
        "colab": {
          "base_uri": "https://localhost:8080/"
        },
        "outputId": "a3f2a074-6adf-4e60-81b4-b4faa52d4945"
      },
      "execution_count": null,
      "outputs": [
        {
          "output_type": "execute_result",
          "data": {
            "text/plain": [
              "(array([1, 2, 3, 4, 5, 6, 7]), torch.int64, tensor([1, 2, 3, 4, 5, 6, 7]))"
            ]
          },
          "metadata": {},
          "execution_count": 11
        }
      ]
    },
    {
      "cell_type": "code",
      "source": [
        "array=array+1\n",
        "tensor,array\n",
        "# Tensor to numpy\n",
        "tensor=torch.arange(1,8)\n",
        "numpy_tensor=tensor.numpy()\n",
        "numpy_tensor,tensor"
      ],
      "metadata": {
        "id": "5hLDDTv0acPu",
        "colab": {
          "base_uri": "https://localhost:8080/"
        },
        "outputId": "a2c0cd06-b426-438c-9697-2cad33ce06a6"
      },
      "execution_count": null,
      "outputs": [
        {
          "output_type": "execute_result",
          "data": {
            "text/plain": [
              "(array([1, 2, 3, 4, 5, 6, 7]), tensor([1, 2, 3, 4, 5, 6, 7]))"
            ]
          },
          "metadata": {},
          "execution_count": 12
        }
      ]
    },
    {
      "cell_type": "code",
      "source": [
        "## Reproducibility (trying to take random out of random)\n",
        "# to reduce the randomness in the nueral network and Pythorch comes the concept of random seed\n",
        "# Essentially what the random seed does is \"FLAVOUR\" then randomness\n",
        "#torch.manual_seed\n",
        "random_tensor_A=torch.rand(3,4)\n",
        "random_tensor_B=torch.rand(3,4)\n",
        "print(random_tensor_A)\n",
        "print(random_tensor_B)\n",
        "print(random_tensor_A==random_tensor_B)\n",
        "RANDOM_SEED=1234\n",
        "torch.manual_seed(RANDOM_SEED)\n",
        "random_tensor_c=torch.rand(3,4)\n",
        "torch.manual_seed(RANDOM_SEED)\n",
        "random_tensor_d=torch.rand(3,4)\n",
        "print(random_tensor_c)\n",
        "print(random_tensor_d)\n",
        "\n",
        "\n",
        "\n"
      ],
      "metadata": {
        "id": "qNCGA_NkdNcs",
        "colab": {
          "base_uri": "https://localhost:8080/"
        },
        "outputId": "9896febf-eefd-4443-e958-75c6f4f7ad27"
      },
      "execution_count": null,
      "outputs": [
        {
          "output_type": "stream",
          "name": "stdout",
          "text": [
            "tensor([[0.6301, 0.3765, 0.8607, 0.8328],\n",
            "        [0.7370, 0.6429, 0.0641, 0.0430],\n",
            "        [0.5465, 0.4621, 0.9080, 0.9990]])\n",
            "tensor([[0.2052, 0.7615, 0.4630, 0.7552],\n",
            "        [0.9713, 0.4398, 0.1692, 0.1262],\n",
            "        [0.0068, 0.0259, 0.7815, 0.5153]])\n",
            "tensor([[False, False, False, False],\n",
            "        [False, False, False, False],\n",
            "        [False, False, False, False]])\n",
            "tensor([[0.0290, 0.4019, 0.2598, 0.3666],\n",
            "        [0.0583, 0.7006, 0.0518, 0.4681],\n",
            "        [0.6738, 0.3315, 0.7837, 0.5631]])\n",
            "tensor([[0.0290, 0.4019, 0.2598, 0.3666],\n",
            "        [0.0583, 0.7006, 0.0518, 0.4681],\n",
            "        [0.6738, 0.3315, 0.7837, 0.5631]])\n"
          ]
        }
      ]
    },
    {
      "cell_type": "code",
      "source": [
        "# Running tensors and PyTorch objects on the GPU's (And making faster computations)\n",
        "!nvidia-smi"
      ],
      "metadata": {
        "id": "CE5JJFI1lK_N",
        "colab": {
          "base_uri": "https://localhost:8080/"
        },
        "outputId": "49249558-c08b-4165-82f3-8573c74cceac"
      },
      "execution_count": null,
      "outputs": [
        {
          "output_type": "stream",
          "name": "stdout",
          "text": [
            "Mon Jul 15 05:09:33 2024       \n",
            "+---------------------------------------------------------------------------------------+\n",
            "| NVIDIA-SMI 535.104.05             Driver Version: 535.104.05   CUDA Version: 12.2     |\n",
            "|-----------------------------------------+----------------------+----------------------+\n",
            "| GPU  Name                 Persistence-M | Bus-Id        Disp.A | Volatile Uncorr. ECC |\n",
            "| Fan  Temp   Perf          Pwr:Usage/Cap |         Memory-Usage | GPU-Util  Compute M. |\n",
            "|                                         |                      |               MIG M. |\n",
            "|=========================================+======================+======================|\n",
            "|   0  Tesla T4                       Off | 00000000:00:04.0 Off |                    0 |\n",
            "| N/A   42C    P8              10W /  70W |      0MiB / 15360MiB |      0%      Default |\n",
            "|                                         |                      |                  N/A |\n",
            "+-----------------------------------------+----------------------+----------------------+\n",
            "                                                                                         \n",
            "+---------------------------------------------------------------------------------------+\n",
            "| Processes:                                                                            |\n",
            "|  GPU   GI   CI        PID   Type   Process name                            GPU Memory |\n",
            "|        ID   ID                                                             Usage      |\n",
            "|=======================================================================================|\n",
            "|  No running processes found                                                           |\n",
            "+---------------------------------------------------------------------------------------+\n"
          ]
        }
      ]
    },
    {
      "cell_type": "code",
      "source": [
        "# check for gpu access with pytorch\n",
        "import torch\n",
        "torch.cuda.is_available()"
      ],
      "metadata": {
        "id": "rMv7MZcKpe6n",
        "colab": {
          "base_uri": "https://localhost:8080/"
        },
        "outputId": "9cce7966-00b8-406e-c1a3-7ec5aeefa3ad"
      },
      "execution_count": null,
      "outputs": [
        {
          "output_type": "execute_result",
          "data": {
            "text/plain": [
              "True"
            ]
          },
          "metadata": {},
          "execution_count": 15
        }
      ]
    },
    {
      "cell_type": "code",
      "source": [
        "#setup devise agnostic code\n",
        "device = \"cuda\" if torch.cuda.is_available() else \"cpu\"\n",
        "device"
      ],
      "metadata": {
        "id": "R-UwWwVup3eK",
        "colab": {
          "base_uri": "https://localhost:8080/",
          "height": 35
        },
        "outputId": "52a340b7-c43b-4a88-b741-3be9c390581b"
      },
      "execution_count": null,
      "outputs": [
        {
          "output_type": "execute_result",
          "data": {
            "text/plain": [
              "'cuda'"
            ],
            "application/vnd.google.colaboratory.intrinsic+json": {
              "type": "string"
            }
          },
          "metadata": {},
          "execution_count": 16
        }
      ]
    },
    {
      "cell_type": "code",
      "source": [
        "# Count the devices available\n",
        "torch.cuda.device_count()"
      ],
      "metadata": {
        "id": "GDv63s0DqGKj",
        "colab": {
          "base_uri": "https://localhost:8080/"
        },
        "outputId": "99168adc-6c82-4d4b-8d3a-9f55a3a2d37b"
      },
      "execution_count": null,
      "outputs": [
        {
          "output_type": "execute_result",
          "data": {
            "text/plain": [
              "1"
            ]
          },
          "metadata": {},
          "execution_count": 17
        }
      ]
    },
    {
      "cell_type": "code",
      "source": [
        "## Putting tensors and models on GPU\n",
        "tensor=torch.tensor([1,2,3],device=\"cpu\")\n",
        "print(tensor,tensor.device)"
      ],
      "metadata": {
        "id": "w81slhLMtRKw",
        "colab": {
          "base_uri": "https://localhost:8080/"
        },
        "outputId": "287db692-d243-485b-e3b3-3e767b6b10ed"
      },
      "execution_count": null,
      "outputs": [
        {
          "output_type": "stream",
          "name": "stdout",
          "text": [
            "tensor([1, 2, 3]) cpu\n"
          ]
        }
      ]
    },
    {
      "cell_type": "code",
      "source": [
        "# Move tensor to gpu\n",
        "tensor_on_gpu=tensor.to(device)\n",
        "tensor_on_gpu"
      ],
      "metadata": {
        "id": "oDcRnfiVu57F",
        "colab": {
          "base_uri": "https://localhost:8080/"
        },
        "outputId": "061b523f-7727-49af-cb61-207e6a21cb73"
      },
      "execution_count": null,
      "outputs": [
        {
          "output_type": "execute_result",
          "data": {
            "text/plain": [
              "tensor([1, 2, 3], device='cuda:0')"
            ]
          },
          "metadata": {},
          "execution_count": 19
        }
      ]
    },
    {
      "cell_type": "code",
      "source": [
        "### 4. Moving tensor back to the cpu\n",
        "# If tensor is on gpu , can't transform it to numpy\n",
        "\n",
        "\n",
        "\n"
      ],
      "metadata": {
        "id": "GVlAZgtEvju4"
      },
      "execution_count": null,
      "outputs": []
    },
    {
      "cell_type": "code",
      "source": [
        "\n",
        "## To fix the GPU tensor with numpy issue , we can first set it to the CPU\n",
        "tensor_back_on_cpu=tensor_on_gpu.cpu().numpy()\n",
        "tensor_back_on_cpu"
      ],
      "metadata": {
        "id": "jhHEs6Avw4oN",
        "colab": {
          "base_uri": "https://localhost:8080/"
        },
        "outputId": "a7711f34-14a9-45f0-d762-70f3504cffbb"
      },
      "execution_count": null,
      "outputs": [
        {
          "output_type": "execute_result",
          "data": {
            "text/plain": [
              "array([1, 2, 3])"
            ]
          },
          "metadata": {},
          "execution_count": 21
        }
      ]
    },
    {
      "cell_type": "code",
      "source": [
        "## Exercise\n",
        "\n",
        "#setup devise agnostic code\n",
        "device = \"cuda\" if torch.cuda.is_available() else \"cpu\"\n",
        "device\n",
        "#1==\n",
        "import torch\n",
        "tensor=torch.rand(7,7)\n",
        "tensor\n",
        "#2==\n",
        "tensor=torch.rand(1,7)\n",
        "tensor.mm(torch.rand(7,1))\n",
        "#3==\n",
        "seed_value=0\n",
        "torch.manual_seed(seed_value)\n",
        "tensor1=torch.rand(1,7)\n",
        "torch.manual_seed(seed_value)\n",
        "tensor2=torch.rand(1,7)\n",
        "tensor1,tensor2\n",
        "tensor1==tensor2\n",
        "#4\n",
        "seed_value=1234\n",
        "torch.manual_seed(seed_value)\n",
        "tensor3=torch.rand(1,7)\n",
        "tensor3.to(device)\n",
        "torch.manual_seed(seed_value)\n",
        "tensor4=torch.rand(1,7)\n",
        "tensor4.to(device)\n",
        "\n",
        "\n",
        "#5\n",
        "\n",
        "tensor=torch.tensor([1,2,3,4])\n",
        "torch.argmax(tensor)\n",
        "\n",
        "#6\n",
        "tensor1=torch.rand(1,1,1,10)\n",
        "tensor2=torch.squeeze(tensor1)\n",
        "tensor1,tensor2,tensor1.shape,tensor2.shape\n"
      ],
      "metadata": {
        "id": "MT2nAsKxzuF7",
        "colab": {
          "base_uri": "https://localhost:8080/"
        },
        "outputId": "3d4fa425-4786-48ce-eeb0-6eeb89a204de"
      },
      "execution_count": null,
      "outputs": [
        {
          "output_type": "execute_result",
          "data": {
            "text/plain": [
              "(tensor([[[[0.4681, 0.6738, 0.3315, 0.7837, 0.5631, 0.7749, 0.8208, 0.2793,\n",
              "            0.6817, 0.2837]]]]),\n",
              " tensor([0.4681, 0.6738, 0.3315, 0.7837, 0.5631, 0.7749, 0.8208, 0.2793, 0.6817,\n",
              "         0.2837]),\n",
              " torch.Size([1, 1, 1, 10]),\n",
              " torch.Size([10]))"
            ]
          },
          "metadata": {},
          "execution_count": 22
        }
      ]
    },
    {
      "cell_type": "code",
      "source": [
        "# CHAPTER 1 PYTORCH WORKFLOW\n",
        "what_were_covering = {1: \"data (prepare and load)\",\n",
        "                      2: \"build model\",\n",
        "                      3: \"fitting the model to the data(training)\",\n",
        "                      4: \"making predications and evaluating a model(inference)\",\n",
        "                      5: \"saving and loading the model\",\n",
        "                      6: \"putting it all together\"}\n"
      ],
      "metadata": {
        "id": "ipH1bI8LBJFp"
      },
      "execution_count": null,
      "outputs": []
    },
    {
      "cell_type": "code",
      "source": [
        "import torch\n",
        "from torch import nn # nn contains all of PyTorch's building blocks for neural networks\n",
        "import matplotlib.pyplot as plt\n",
        "#check pytorch version\n",
        "torch.__version__\n",
        "\n",
        "\n",
        "\n",
        "\n"
      ],
      "metadata": {
        "id": "GL4oqe21OAL-",
        "colab": {
          "base_uri": "https://localhost:8080/",
          "height": 35
        },
        "outputId": "eff4ad6f-437c-4677-8423-c3d880535b31"
      },
      "execution_count": null,
      "outputs": [
        {
          "output_type": "execute_result",
          "data": {
            "text/plain": [
              "'2.3.0+cu121'"
            ],
            "application/vnd.google.colaboratory.intrinsic+json": {
              "type": "string"
            }
          },
          "metadata": {},
          "execution_count": 24
        }
      ]
    },
    {
      "cell_type": "code",
      "source": [
        "## Data preparing and loading\n",
        "import torch\n",
        "from torch import nn # nn contains all of PyTorch's building blocks for neural networks\n",
        "import matplotlib.pyplot as plt\n",
        "\n",
        "# data can be anything in machine learning\n",
        "# 1- excel spreadsheet\n",
        "# 2- images\n",
        "# 3- audio\n",
        "# 4- video\n",
        "# 5- text\n",
        "\n",
        "# Machine learning is a game of two parts :\n",
        "#1. get data into a numerical representation\n",
        "#2. build a model to learn patterns in that numerical representation\n",
        "\n",
        "# To showcase this let's create some \"kmown data using linear regression formula.\n",
        "\n",
        "# Create \"known\" parameters\n",
        "weight=0.7\n",
        "bias=0.3\n",
        "\n",
        "# Create data\n",
        "start=0\n",
        "end=1\n",
        "step=0.02\n",
        "X=torch.arange(start,end,step).unsqueeze(dim=1)\n",
        "y=weight*X+bias\n",
        "X[:10],y[:10],len(X),len(y)\n",
        "\n",
        "\n"
      ],
      "metadata": {
        "id": "2osvLC0xPr3A",
        "colab": {
          "base_uri": "https://localhost:8080/"
        },
        "outputId": "7fe01ec4-2a05-4973-f76a-a6688bfafa5c"
      },
      "execution_count": null,
      "outputs": [
        {
          "output_type": "execute_result",
          "data": {
            "text/plain": [
              "(tensor([[0.0000],\n",
              "         [0.0200],\n",
              "         [0.0400],\n",
              "         [0.0600],\n",
              "         [0.0800],\n",
              "         [0.1000],\n",
              "         [0.1200],\n",
              "         [0.1400],\n",
              "         [0.1600],\n",
              "         [0.1800]]),\n",
              " tensor([[0.3000],\n",
              "         [0.3140],\n",
              "         [0.3280],\n",
              "         [0.3420],\n",
              "         [0.3560],\n",
              "         [0.3700],\n",
              "         [0.3840],\n",
              "         [0.3980],\n",
              "         [0.4120],\n",
              "         [0.4260]]),\n",
              " 50,\n",
              " 50)"
            ]
          },
          "metadata": {},
          "execution_count": 25
        }
      ]
    },
    {
      "cell_type": "code",
      "source": [
        "### Splitting data into training and test sets(one of the most important concepts in machine learning)\n",
        "# Three most important data sets in machine learning is\n",
        "# 1-- course material(Training sets)\n",
        "#2--Practice exam ( valideation test)\n",
        "#3--Final exam(test set)\n",
        "train_split=int(0.8*len(X))\n",
        "X_train,y_train=X[:train_split],y[:train_split]\n",
        "X_test,y_test=X[train_split:],y[train_split:]\n",
        "len(X_train),len(y_train),len(X_test),len(y_test)"
      ],
      "metadata": {
        "id": "yCcfmvTerxbT",
        "colab": {
          "base_uri": "https://localhost:8080/"
        },
        "outputId": "16f57d42-98e4-4e89-8307-ceb1be811e2f"
      },
      "execution_count": null,
      "outputs": [
        {
          "output_type": "execute_result",
          "data": {
            "text/plain": [
              "(40, 40, 10, 10)"
            ]
          },
          "metadata": {},
          "execution_count": 26
        }
      ]
    },
    {
      "cell_type": "code",
      "source": [
        "#how to visualize our data?\n",
        "import torch\n",
        "from torch import nn # nn contains all of PyTorch's building blocks for neural networks\n",
        "import matplotlib.pyplot as plt\n",
        "def plot_predictions(train_data=X_train,\n",
        "                     train_labels=y_train,\n",
        "                     test_data=X_test,\n",
        "                     test_labels=y_test,\n",
        "                     predictions=None):\n",
        "\n",
        "  plt.figure(figsize=(10,7))\n",
        "  #plot training data in blue\n",
        "  plt.scatter(train_data,train_labels,c=\"b\",s=4,label=\"Training data\")\n",
        "\n",
        "  #plot test data in green\n",
        "  plt.scatter(test_data,test_labels,c=\"g\",s=4,label=\"Testing data\")\n",
        "\n",
        "  #are there predictions?\n",
        "  if predictions is not None:\n",
        "    #plot predictions if they exist\n",
        "    plt.scatter(test_data,predictions,c=\"r\",s=4,label=\"Predictions\")\n",
        "\n",
        "  # show the legends\n",
        "  plt.legend(prop={\"size\":14});\n",
        "\n",
        "\n",
        "\n"
      ],
      "metadata": {
        "id": "5x4r-8CWvoDU"
      },
      "execution_count": null,
      "outputs": []
    },
    {
      "cell_type": "code",
      "source": [
        "plot_predictions();"
      ],
      "metadata": {
        "id": "2X-9Q1Q2yjLg",
        "colab": {
          "base_uri": "https://localhost:8080/",
          "height": 599
        },
        "outputId": "6f4b04ac-4a59-488f-c632-81dda0ddc69d"
      },
      "execution_count": null,
      "outputs": [
        {
          "output_type": "display_data",
          "data": {
            "text/plain": [
              "<Figure size 1000x700 with 1 Axes>"
            ],
            "image/png": "[encoded data removed]"
          },
          "metadata": {}
        }
      ]
    },
    {
      "cell_type": "code",
      "source": [
        "## build our first model\n",
        "# what our model does:\n",
        "#start with a random values (weight and bias)\n",
        "#look at training data and adjust the random values to better represent (or get closer to) the ideal values\n",
        "# how does it do so:\n",
        "# Gradient descent\n",
        "#Backpropagation\n",
        "\n",
        "from torch import nn\n",
        "class LinearRegressionModel(nn.Module):\n",
        "  def __init__(self):\n",
        "    super().__init__()\n",
        "    self.weights = nn.Parameter(torch.randn(1,requires_grad=True,dtype=torch.float32))\n",
        "    self.bias = nn.Parameter(torch.randn(1,requires_grad=True,dtype=torch.float32))\n",
        "    # Forward method to define the computation in the model\n",
        "  def forward(self,x:torch.Tensor)->torch.Tensor: # <- \"x\" is the input data\n",
        "    return self.weights*x+self.bias\n"
      ],
      "metadata": {
        "id": "7i3pFOmeMy1F"
      },
      "execution_count": null,
      "outputs": []
    },
    {
      "cell_type": "code",
      "source": [
        "## Pytorch model building essentials\n",
        "# 1-torch.nn = contains all the buildings for computational graphs(another word for neural networks)\n",
        "# 2-torch.nn.Parameter = what parameters should our model try and learn, often a PyTorch layer from torch.nn will set these for us\n",
        "# 3-torch.nn.Module = the base class for all neural network modules, if you subclass it, you should overwrite forward()\n",
        "# 4-torch.optim = this is where the optimizers in PyTorch live, they will help with gradient descent\n"
      ],
      "metadata": {
        "id": "mSj59dUPamPq"
      },
      "execution_count": null,
      "outputs": []
    },
    {
      "cell_type": "code",
      "source": [
        "## checking the contents of the model\n",
        "torch.manual_seed(42)\n",
        "\n",
        "#instance of the model we created\n",
        "model_0=LinearRegressionModel()\n",
        "list(model_0.parameters())\n",
        "model_0.state_dict()\n",
        "\n"
      ],
      "metadata": {
        "id": "wc1rxC5Bc1QM",
        "colab": {
          "base_uri": "https://localhost:8080/"
        },
        "outputId": "6524605a-facf-4cb6-80a1-240c2d661c37"
      },
      "execution_count": null,
      "outputs": [
        {
          "output_type": "execute_result",
          "data": {
            "text/plain": [
              "OrderedDict([('weights', tensor([0.3367])), ('bias', tensor([0.1288]))])"
            ]
          },
          "metadata": {},
          "execution_count": 31
        }
      ]
    },
    {
      "cell_type": "code",
      "source": [
        "### Making prediction using torch.inference_mode()\n",
        "\n",
        "with torch.inference_mode():\n",
        "  y_preds=model_0(X_test)\n",
        "y_preds"
      ],
      "metadata": {
        "id": "E_Cfzj5lPrpn",
        "colab": {
          "base_uri": "https://localhost:8080/"
        },
        "outputId": "9c577a01-aacb-449e-e3a3-59b9978f57be"
      },
      "execution_count": null,
      "outputs": [
        {
          "output_type": "execute_result",
          "data": {
            "text/plain": [
              "tensor([[0.3982],\n",
              "        [0.4049],\n",
              "        [0.4116],\n",
              "        [0.4184],\n",
              "        [0.4251],\n",
              "        [0.4318],\n",
              "        [0.4386],\n",
              "        [0.4453],\n",
              "        [0.4520],\n",
              "        [0.4588]])"
            ]
          },
          "metadata": {},
          "execution_count": 32
        }
      ]
    },
    {
      "cell_type": "code",
      "source": [
        "X_test,y_test"
      ],
      "metadata": {
        "id": "UGiyfZmDQXCg",
        "colab": {
          "base_uri": "https://localhost:8080/"
        },
        "outputId": "b84f6bee-9f34-41b7-8422-846ef2d29301"
      },
      "execution_count": null,
      "outputs": [
        {
          "output_type": "execute_result",
          "data": {
            "text/plain": [
              "(tensor([[0.8000],\n",
              "         [0.8200],\n",
              "         [0.8400],\n",
              "         [0.8600],\n",
              "         [0.8800],\n",
              "         [0.9000],\n",
              "         [0.9200],\n",
              "         [0.9400],\n",
              "         [0.9600],\n",
              "         [0.9800]]),\n",
              " tensor([[0.8600],\n",
              "         [0.8740],\n",
              "         [0.8880],\n",
              "         [0.9020],\n",
              "         [0.9160],\n",
              "         [0.9300],\n",
              "         [0.9440],\n",
              "         [0.9580],\n",
              "         [0.9720],\n",
              "         [0.9860]]))"
            ]
          },
          "metadata": {},
          "execution_count": 33
        }
      ]
    },
    {
      "cell_type": "code",
      "source": [
        "plot_predictions(predictions=y_preds)"
      ],
      "metadata": {
        "id": "d4ZUohCDTBd0",
        "colab": {
          "base_uri": "https://localhost:8080/",
          "height": 599
        },
        "outputId": "6e0548ff-f5b1-4fef-b443-8d5b06a3e93b"
      },
      "execution_count": null,
      "outputs": [
        {
          "output_type": "display_data",
          "data": {
            "text/plain": [
              "<Figure size 1000x700 with 1 Axes>"
            ],
            "image/png": "[encoded data removed]"
          },
          "metadata": {}
        }
      ]
    },
    {
      "cell_type": "code",
      "source": [
        "\n",
        "  with torch.no_grad():\n",
        "    y_preds=model_0(X_test)\n",
        "  y_preds"
      ],
      "metadata": {
        "id": "qtKDRd_oFNUo",
        "colab": {
          "base_uri": "https://localhost:8080/"
        },
        "outputId": "a78867e2-f3e0-4e0b-d970-c2b625285c0a"
      },
      "execution_count": null,
      "outputs": [
        {
          "output_type": "execute_result",
          "data": {
            "text/plain": [
              "tensor([[0.3982],\n",
              "        [0.4049],\n",
              "        [0.4116],\n",
              "        [0.4184],\n",
              "        [0.4251],\n",
              "        [0.4318],\n",
              "        [0.4386],\n",
              "        [0.4453],\n",
              "        [0.4520],\n",
              "        [0.4588]])"
            ]
          },
          "metadata": {},
          "execution_count": 35
        }
      ]
    },
    {
      "cell_type": "code",
      "source": [
        "## Train model\n",
        "#the whole idea of training is for a model to move from some unkmown parameters (these may be random) to some kmown parameters.\n",
        "#or in other words from a poor representation of the data to better representation of the data.\n",
        "# one way to measure how poor or how wrong our model predictions are is to use loss function.\n",
        "# things we can do to train a model\n",
        "#1-- introduce loss function\n",
        "#2-- optimizer - Takes into account the loss of a model and adjusts the model's parameters (eg - weight and bias)\n",
        "# and specifically for pytorch we need:- training loops and testing loop\n",
        "list(model_0.parameters())\n",
        "# Check out our model's parameters (a parameters is a value that the model sets itself)\n",
        "model_0.state_dict()\n",
        "## setup a loss function\n",
        "loss_fn=nn.L1Loss()\n",
        "loss_fn\n",
        "\n",
        "## setup a optimizer (stochastic gradient descent),lr=learning rate=possibly the most important hyperparameters\n",
        "optimizer=torch.optim.SGD(params=model_0.parameters(),lr=0.01)\n",
        "\n",
        "\n",
        "\n",
        "\n",
        "\n"
      ],
      "metadata": {
        "id": "0q25s4SCHwZ0"
      },
      "execution_count": null,
      "outputs": []
    },
    {
      "cell_type": "code",
      "source": [
        "## Building a training loop(and a testing loop) in PyTorch\n",
        "#A couple of things we need ina training loop\n",
        "#1-- Loop through the data\n",
        "#2--   Foward pass - this involves data moving through our model\n",
        "#3--   Calculate the loss- compare forward pass predictions to ground truth table\n",
        "#4--   Optimizer zero grad\n",
        "#5--   Loss backward- move backward through the network to calculate the gradients of each of the parameters of our model wrt loss(backprapogation)\n",
        "#6--   Optimizer step-use the optimizer to adjust our model's parameters to try and improve the loss (gradient descent)\n",
        "## An epoch is one loop through the data\n",
        "epochs=120\n",
        "#1\n",
        "for epoch in range (epochs):\n",
        "  # set the model to training mode\n",
        "  model_0.train()\n",
        " #2 Forward pass\n",
        "  y_pred = model_0(X_train)\n",
        "  #3 Calculate the loss function\n",
        "  loss = loss_fn(y_pred, y_train)\n",
        "  #4 Optimizer zero grad\n",
        "  optimizer.zero_grad()\n",
        "  #5 Loss backward\n",
        "  loss.backward()\n",
        "  #6 Optimizer step\n",
        "  optimizer.step()\n",
        "  ## Testing\n",
        "  model_0.eval()##Turns off gradient tracking\n",
        "  with torch.inference_mode():\n",
        "   ##1 Forward pass\n",
        "    test_pred=model_0(X_test)\n",
        "    ##2 Calculate the loss\n",
        "    test_loss=loss_fn(test_pred,y_test)\n",
        "    # Print out what's happening\n",
        "  if epoch % 10 == 0:\n",
        "    print(f\"Epoch: {epoch} | Loss: {loss} | Test loss: {test_loss}\")\n",
        "\n",
        "  print(f\"loss: {loss}\")\n",
        "\n",
        "\n",
        "\n",
        "\n",
        "\n",
        "\n",
        "\n",
        "\n",
        "\n"
      ],
      "metadata": {
        "id": "g_Fz3_XPVqSv",
        "colab": {
          "base_uri": "https://localhost:8080/"
        },
        "outputId": "90cfd0ec-6f8e-4f6e-9ce3-f895ae49e2aa"
      },
      "execution_count": null,
      "outputs": [
        {
          "output_type": "stream",
          "name": "stdout",
          "text": [
            "Epoch: 0 | Loss: 0.31288138031959534 | Test loss: 0.48106518387794495\n",
            "loss: 0.31288138031959534\n",
            "loss: 0.3013603389263153\n",
            "loss: 0.28983935713768005\n",
            "loss: 0.2783183455467224\n",
            "loss: 0.26679736375808716\n",
            "loss: 0.2552763521671295\n",
            "loss: 0.24375534057617188\n",
            "loss: 0.23223432898521423\n",
            "loss: 0.22071333229541779\n",
            "loss: 0.20919232070446014\n",
            "Epoch: 10 | Loss: 0.1976713240146637 | Test loss: 0.3463551998138428\n",
            "loss: 0.1976713240146637\n",
            "loss: 0.18615034222602844\n",
            "loss: 0.1746293306350708\n",
            "loss: 0.16310831904411316\n",
            "loss: 0.1515873372554779\n",
            "loss: 0.14006635546684265\n",
            "loss: 0.1285453587770462\n",
            "loss: 0.11702437698841095\n",
            "loss: 0.1060912236571312\n",
            "loss: 0.09681284427642822\n",
            "Epoch: 20 | Loss: 0.08908725529909134 | Test loss: 0.21729660034179688\n",
            "loss: 0.08908725529909134\n",
            "loss: 0.08227583020925522\n",
            "loss: 0.07638873159885406\n",
            "loss: 0.07160007208585739\n",
            "loss: 0.06747635453939438\n",
            "loss: 0.06395438313484192\n",
            "loss: 0.06097004935145378\n",
            "loss: 0.05845819041132927\n",
            "loss: 0.05635259300470352\n",
            "loss: 0.0545857772231102\n",
            "Epoch: 30 | Loss: 0.053148526698350906 | Test loss: 0.14464017748832703\n",
            "loss: 0.053148526698350906\n",
            "loss: 0.05181945487856865\n",
            "loss: 0.05069301277399063\n",
            "loss: 0.0498228520154953\n",
            "loss: 0.04895269125699997\n",
            "loss: 0.04819351062178612\n",
            "loss: 0.047531817108392715\n",
            "loss: 0.04692792519927025\n",
            "loss: 0.04642331600189209\n",
            "loss: 0.04591871052980423\n",
            "Epoch: 40 | Loss: 0.04543796554207802 | Test loss: 0.11360953003168106\n",
            "loss: 0.04543796554207802\n",
            "loss: 0.04503796249628067\n",
            "loss: 0.04463795945048332\n",
            "loss: 0.04423796385526657\n",
            "loss: 0.04383796453475952\n",
            "loss: 0.04343796148896217\n",
            "loss: 0.043074630200862885\n",
            "loss: 0.04272563382983208\n",
            "loss: 0.04237663000822067\n",
            "loss: 0.04202762991189957\n",
            "Epoch: 50 | Loss: 0.04167863354086876 | Test loss: 0.09919948130846024\n",
            "loss: 0.04167863354086876\n",
            "loss: 0.04132963344454765\n",
            "loss: 0.04098063334822655\n",
            "loss: 0.04063162952661514\n",
            "loss: 0.040282636880874634\n",
            "loss: 0.039933640509843826\n",
            "loss: 0.03958464413881302\n",
            "loss: 0.03923564404249191\n",
            "loss: 0.03888664394617081\n",
            "loss: 0.0385376438498497\n",
            "Epoch: 60 | Loss: 0.03818932920694351 | Test loss: 0.08886633068323135\n",
            "loss: 0.03818932920694351\n",
            "loss: 0.03785243630409241\n",
            "loss: 0.0375034399330616\n",
            "loss: 0.037164121866226196\n",
            "loss: 0.03681822493672371\n",
            "loss: 0.03647511452436447\n",
            "loss: 0.03613303601741791\n",
            "loss: 0.03578609973192215\n",
            "loss: 0.03544783592224121\n",
            "loss: 0.035098835825920105\n",
            "Epoch: 70 | Loss: 0.03476089984178543 | Test loss: 0.0805937647819519\n",
            "loss: 0.03476089984178543\n",
            "loss: 0.03441363573074341\n",
            "loss: 0.03407188132405281\n",
            "loss: 0.03372843936085701\n",
            "loss: 0.03338287025690079\n",
            "loss: 0.033043231815099716\n",
            "loss: 0.03269423171877861\n",
            "loss: 0.032357655465602875\n",
            "loss: 0.03200903534889221\n",
            "loss: 0.03166864812374115\n",
            "Epoch: 80 | Loss: 0.03132382780313492 | Test loss: 0.07232122868299484\n",
            "loss: 0.03132382780313492\n",
            "loss: 0.030979642644524574\n",
            "loss: 0.030638623982667923\n",
            "loss: 0.0302906334400177\n",
            "loss: 0.029953425750136375\n",
            "loss: 0.02960442565381527\n",
            "loss: 0.029265418648719788\n",
            "loss: 0.028919223695993423\n",
            "loss: 0.028576409444212914\n",
            "loss: 0.028234025463461876\n",
            "Epoch: 90 | Loss: 0.02788739837706089 | Test loss: 0.06473556160926819\n",
            "loss: 0.02788739837706089\n",
            "loss: 0.02754882536828518\n",
            "loss: 0.027199819684028625\n",
            "loss: 0.026862185448408127\n",
            "loss: 0.02651461586356163\n",
            "loss: 0.026173178106546402\n",
            "loss: 0.025829419493675232\n",
            "loss: 0.02548416517674923\n",
            "loss: 0.025144213810563087\n",
            "loss: 0.02479521557688713\n",
            "Epoch: 100 | Loss: 0.024458957836031914 | Test loss: 0.05646304413676262\n",
            "loss: 0.024458957836031914\n",
            "loss: 0.024110013619065285\n",
            "loss: 0.02376994863152504\n",
            "loss: 0.02342480979859829\n",
            "loss: 0.023080935701727867\n",
            "loss: 0.022739607840776443\n",
            "loss: 0.022391926497220993\n",
            "loss: 0.022054409608244896\n",
            "loss: 0.02170540764927864\n",
            "loss: 0.021366719156503677\n",
            "Epoch: 110 | Loss: 0.021020207554101944 | Test loss: 0.04819049686193466\n",
            "loss: 0.021020207554101944\n",
            "loss: 0.020677709951996803\n",
            "loss: 0.02033500373363495\n",
            "loss: 0.01998869702219963\n",
            "loss: 0.019649803638458252\n",
            "loss: 0.019300809130072594\n",
            "loss: 0.018963487818837166\n",
            "loss: 0.01861560344696045\n",
            "loss: 0.018274478614330292\n",
            "loss: 0.017930403351783752\n"
          ]
        }
      ]
    },
    {
      "cell_type": "code",
      "source": [
        "model_0.state_dict()"
      ],
      "metadata": {
        "id": "aihC6DYjCBug",
        "colab": {
          "base_uri": "https://localhost:8080/"
        },
        "outputId": "543267de-5993-450a-f4a4-9c1b9c05993d"
      },
      "execution_count": null,
      "outputs": [
        {
          "output_type": "execute_result",
          "data": {
            "text/plain": [
              "OrderedDict([('weights', tensor([0.6126])), ('bias', tensor([0.3368]))])"
            ]
          },
          "metadata": {},
          "execution_count": 38
        }
      ]
    },
    {
      "cell_type": "code",
      "source": [
        "weight,bias\n",
        "with torch.inference_mode():\n",
        "  y_preds_new=model_0(X_test)\n",
        "y_preds\n"
      ],
      "metadata": {
        "id": "OMIIKMBRCGRo",
        "colab": {
          "base_uri": "https://localhost:8080/"
        },
        "outputId": "64223b9d-24b5-49e5-9331-48a777dbee98"
      },
      "execution_count": null,
      "outputs": [
        {
          "output_type": "execute_result",
          "data": {
            "text/plain": [
              "tensor([[0.3982],\n",
              "        [0.4049],\n",
              "        [0.4116],\n",
              "        [0.4184],\n",
              "        [0.4251],\n",
              "        [0.4318],\n",
              "        [0.4386],\n",
              "        [0.4453],\n",
              "        [0.4520],\n",
              "        [0.4588]])"
            ]
          },
          "metadata": {},
          "execution_count": 39
        }
      ]
    },
    {
      "cell_type": "code",
      "source": [
        "plot_predictions(predictions=y_preds_new)"
      ],
      "metadata": {
        "id": "oqnjMfUTFQG-",
        "colab": {
          "base_uri": "https://localhost:8080/",
          "height": 599
        },
        "outputId": "d19a2ed4-6a72-455c-98c7-174e4f5693ce"
      },
      "execution_count": null,
      "outputs": [
        {
          "output_type": "display_data",
          "data": {
            "text/plain": [
              "<Figure size 1000x700 with 1 Axes>"
            ],
            "image/png": "[encoded data removed]"
          },
          "metadata": {}
        }
      ]
    },
    {
      "cell_type": "code",
      "source": [
        "#SAVING A MODEL IN PYTORCH\n",
        "#there are three main methods to save and load our models\n",
        "#1-torch.save()\n",
        "#2-troch.load()\n",
        "#3-torch.nn.Module.load_state_dict() - this allows to load a model's saved state dictionary\n"
      ],
      "metadata": {
        "id": "OHkWxojEF525"
      },
      "execution_count": null,
      "outputs": []
    },
    {
      "cell_type": "code",
      "source": [
        "#DATA\n",
        "#Create some data using the linear regression formula of y = weight*X+ + bias\n",
        "weight = 0.7\n",
        "bias = 0.3\n",
        "start =0\n",
        "end=1\n",
        "step=0.02\n",
        "\n",
        "# Create X and y (features and labels)\n",
        "X = torch.arange(start,end,step).unsqueeze(dim=1)\n",
        "y=weight * X + bias\n",
        "X[:10],y[:10]\n",
        "\n"
      ],
      "metadata": {
        "id": "QikEuY-Y3SSL",
        "colab": {
          "base_uri": "https://localhost:8080/"
        },
        "outputId": "8691bea1-ee62-4828-cb67-a9627400057c"
      },
      "execution_count": null,
      "outputs": [
        {
          "output_type": "execute_result",
          "data": {
            "text/plain": [
              "(tensor([[0.0000],\n",
              "         [0.0200],\n",
              "         [0.0400],\n",
              "         [0.0600],\n",
              "         [0.0800],\n",
              "         [0.1000],\n",
              "         [0.1200],\n",
              "         [0.1400],\n",
              "         [0.1600],\n",
              "         [0.1800]]),\n",
              " tensor([[0.3000],\n",
              "         [0.3140],\n",
              "         [0.3280],\n",
              "         [0.3420],\n",
              "         [0.3560],\n",
              "         [0.3700],\n",
              "         [0.3840],\n",
              "         [0.3980],\n",
              "         [0.4120],\n",
              "         [0.4260]]))"
            ]
          },
          "metadata": {},
          "execution_count": 42
        }
      ]
    },
    {
      "cell_type": "code",
      "source": [
        "#split data\n",
        "train_split = int(0.8*len(X))\n",
        "X_train,y_train = X[:train_split],y[:train_split]\n",
        "X_test,y_test=X[train_split:],y[train_split:]\n",
        "len(X_train),len(y_train),len(X_test),len(y_test)\n"
      ],
      "metadata": {
        "id": "JM1PJZzC5Nad",
        "colab": {
          "base_uri": "https://localhost:8080/"
        },
        "outputId": "d75e8b33-1a7b-4302-b861-59f0b871f82a"
      },
      "execution_count": null,
      "outputs": [
        {
          "output_type": "execute_result",
          "data": {
            "text/plain": [
              "(40, 40, 10, 10)"
            ]
          },
          "metadata": {},
          "execution_count": 43
        }
      ]
    },
    {
      "cell_type": "code",
      "source": [
        "## plot the data\n",
        "plot_predictions(X_train,y_train,X_test,y_test)"
      ],
      "metadata": {
        "id": "YsMWoAA86RDZ",
        "colab": {
          "base_uri": "https://localhost:8080/",
          "height": 599
        },
        "outputId": "333800a8-3191-416a-c5d3-09e7fabb86e5"
      },
      "execution_count": null,
      "outputs": [
        {
          "output_type": "display_data",
          "data": {
            "text/plain": [
              "<Figure size 1000x700 with 1 Axes>"
            ],
            "image/png": "[encoded data removed]"
          },
          "metadata": {}
        }
      ]
    },
    {
      "cell_type": "code",
      "source": [
        "## building a PyTorch linear model by subclassing nn.module\n",
        "class LinearRegressionModel(nn.Module):\n",
        "  def __init__(self):\n",
        "    super().__init__()\n",
        "  # Use nn. linear() for creating the model parameters\n",
        "    self.linear_layer=nn.Linear(in_features=1,out_features=1)\n",
        "\n",
        "  def forward(self,x: torch.Tensor) -> torch.Tensor:\n",
        "    return self.linear_layer(x)\n",
        "\n",
        "## Set the manual seed\n",
        "torch.manual_seed(42)\n",
        "model_1 = LinearRegressionModel()\n",
        "model_1,model_1.state_dict()\n",
        "\n",
        "\n",
        "\n",
        "\n"
      ],
      "metadata": {
        "id": "3diRMzw96pER",
        "colab": {
          "base_uri": "https://localhost:8080/"
        },
        "outputId": "04e1608a-4af2-4fe1-d545-11eeb593966d"
      },
      "execution_count": null,
      "outputs": [
        {
          "output_type": "execute_result",
          "data": {
            "text/plain": [
              "(LinearRegressionModel(\n",
              "   (linear_layer): Linear(in_features=1, out_features=1, bias=True)\n",
              " ),\n",
              " OrderedDict([('linear_layer.weight', tensor([[0.7645]])),\n",
              "              ('linear_layer.bias', tensor([0.8300]))]))"
            ]
          },
          "metadata": {},
          "execution_count": 45
        }
      ]
    },
    {
      "cell_type": "code",
      "source": [
        "## Set the model to use the target device\n",
        "model_1.to(device)\n",
        "next(model_1.parameters()).device\n"
      ],
      "metadata": {
        "id": "UFjG1lMyAa2p",
        "colab": {
          "base_uri": "https://localhost:8080/"
        },
        "outputId": "0e6185b8-c378-4f59-bfac-3587d9ddfa5c"
      },
      "execution_count": null,
      "outputs": [
        {
          "output_type": "execute_result",
          "data": {
            "text/plain": [
              "device(type='cuda', index=0)"
            ]
          },
          "metadata": {},
          "execution_count": 46
        }
      ]
    },
    {
      "cell_type": "code",
      "source": [
        "import torch\n",
        "import torch.nn as nn\n",
        "\n",
        "# Loss function\n",
        "loss_fn = nn.L1Loss()\n",
        "\n",
        "# Setup optimizer\n",
        "optimizer = torch.optim.SGD(params=model_1.parameters(), lr=0.01)\n",
        "\n",
        "# Training loop\n",
        "epochs = 200\n",
        "device = \"cuda\" if torch.cuda.is_available() else \"cpu\"\n",
        "\n",
        "# Move data to target device\n",
        "X_train, y_train = X_train.to(device), y_train.to(device)\n",
        "X_test, y_test = X_test.to(device), y_test.to(device)\n",
        "model_1.to(device)\n",
        "\n",
        "for epoch in range(epochs):\n",
        "    model_1.train()\n",
        "\n",
        "    # Forward pass\n",
        "    y_pred = model_1(X_train)\n",
        "    loss = loss_fn(y_pred, y_train)\n",
        "\n",
        "    # Backward pass and optimization\n",
        "    optimizer.zero_grad()\n",
        "    loss.backward()\n",
        "    optimizer.step()\n",
        "\n",
        "    # Testing\n",
        "    model_1.eval()\n",
        "    with torch.inference_mode():\n",
        "        test_preds = model_1(X_test)\n",
        "        test_loss = loss_fn(test_preds, y_test)\n",
        "\n",
        "    # Print progress\n",
        "    if epoch % 10 == 0:\n",
        "        print(f\"Epoch: {epoch} | Loss: {loss.item()} | Test loss: {test_loss.item()}\")\n"
      ],
      "metadata": {
        "id": "a_vei6aCDpbL",
        "colab": {
          "base_uri": "https://localhost:8080/"
        },
        "outputId": "49f0c510-8db7-4942-b7d0-e7b30be0ff70"
      },
      "execution_count": null,
      "outputs": [
        {
          "output_type": "stream",
          "name": "stdout",
          "text": [
            "Epoch: 0 | Loss: 0.5551779866218567 | Test loss: 0.5739762187004089\n",
            "Epoch: 10 | Loss: 0.439968079328537 | Test loss: 0.4392664134502411\n",
            "Epoch: 20 | Loss: 0.3247582018375397 | Test loss: 0.30455657839775085\n",
            "Epoch: 30 | Loss: 0.20954833924770355 | Test loss: 0.16984669864177704\n",
            "Epoch: 40 | Loss: 0.09433845430612564 | Test loss: 0.03513690456748009\n",
            "Epoch: 50 | Loss: 0.023886388167738914 | Test loss: 0.04784907028079033\n",
            "Epoch: 60 | Loss: 0.019956795498728752 | Test loss: 0.045803118497133255\n",
            "Epoch: 70 | Loss: 0.016517987474799156 | Test loss: 0.037530567497015\n",
            "Epoch: 80 | Loss: 0.013089174404740334 | Test loss: 0.02994490973651409\n",
            "Epoch: 90 | Loss: 0.009653178043663502 | Test loss: 0.02167237363755703\n",
            "Epoch: 100 | Loss: 0.006215683650225401 | Test loss: 0.014086711220443249\n",
            "Epoch: 110 | Loss: 0.00278724217787385 | Test loss: 0.005814164876937866\n",
            "Epoch: 120 | Loss: 0.0012645035749301314 | Test loss: 0.013801801018416882\n",
            "Epoch: 130 | Loss: 0.0012645035749301314 | Test loss: 0.013801801018416882\n",
            "Epoch: 140 | Loss: 0.0012645035749301314 | Test loss: 0.013801801018416882\n",
            "Epoch: 150 | Loss: 0.0012645035749301314 | Test loss: 0.013801801018416882\n",
            "Epoch: 160 | Loss: 0.0012645035749301314 | Test loss: 0.013801801018416882\n",
            "Epoch: 170 | Loss: 0.0012645035749301314 | Test loss: 0.013801801018416882\n",
            "Epoch: 180 | Loss: 0.0012645035749301314 | Test loss: 0.013801801018416882\n",
            "Epoch: 190 | Loss: 0.0012645035749301314 | Test loss: 0.013801801018416882\n"
          ]
        }
      ]
    },
    {
      "cell_type": "code",
      "source": [
        "model_1.state_dict()"
      ],
      "metadata": {
        "id": "VUrvwTxg6D3e",
        "colab": {
          "base_uri": "https://localhost:8080/"
        },
        "outputId": "93ef32b5-00d2-4cce-c6a6-82bbbb5f7500"
      },
      "execution_count": null,
      "outputs": [
        {
          "output_type": "execute_result",
          "data": {
            "text/plain": [
              "OrderedDict([('linear_layer.weight', tensor([[0.6968]], device='cuda:0')),\n",
              "             ('linear_layer.bias', tensor([0.3025], device='cuda:0'))])"
            ]
          },
          "metadata": {},
          "execution_count": 48
        }
      ]
    },
    {
      "cell_type": "code",
      "source": [
        "##Making and evaluating predictions\n",
        "# turn our model into evaluating mode\n",
        "model_1.eval()\n",
        "## making predictions on the test data\n",
        "with torch.inference_mode():\n",
        "  y_preds = model_1(X_test)\n",
        "y_preds\n"
      ],
      "metadata": {
        "id": "ptsFUtkS9ZHn",
        "colab": {
          "base_uri": "https://localhost:8080/"
        },
        "outputId": "e61f9ba0-51b5-4e65-f5f8-7997db50cd0a"
      },
      "execution_count": null,
      "outputs": [
        {
          "output_type": "execute_result",
          "data": {
            "text/plain": [
              "tensor([[0.8600],\n",
              "        [0.8739],\n",
              "        [0.8878],\n",
              "        [0.9018],\n",
              "        [0.9157],\n",
              "        [0.9296],\n",
              "        [0.9436],\n",
              "        [0.9575],\n",
              "        [0.9714],\n",
              "        [0.9854]], device='cuda:0')"
            ]
          },
          "metadata": {},
          "execution_count": 49
        }
      ]
    },
    {
      "cell_type": "code",
      "source": [
        "## Check out our model predictions visually\n",
        "plot_predictions(predictions=y_preds.cpu())"
      ],
      "metadata": {
        "id": "81P8frLN-Y8P",
        "colab": {
          "base_uri": "https://localhost:8080/",
          "height": 599
        },
        "outputId": "59bbf695-af27-428a-aa60-32abd0607a0c"
      },
      "execution_count": null,
      "outputs": [
        {
          "output_type": "display_data",
          "data": {
            "text/plain": [
              "<Figure size 1000x700 with 1 Axes>"
            ],
            "image/png": "[encoded data removed]"
          },
          "metadata": {}
        }
      ]
    },
    {
      "cell_type": "code",
      "source": [
        "## Saving and loading a trained model\n",
        "from pathlib import Path\n",
        "MODEL_PATH=Path(\"models\")\n",
        "MODEL_PATH.mkdir(parents=True,exist_ok=True)\n",
        "MODEL_NAME=\"01_pytorch_workflow_model_1 .pth\"\n",
        "MODEL_SAVE_PATH=MODEL_PATH/MODEL_NAME\n",
        "MODEL_SAVE_PATH\n"
      ],
      "metadata": {
        "id": "YnNa9DdGAsFM",
        "colab": {
          "base_uri": "https://localhost:8080/"
        },
        "outputId": "d7266fe2-1e8a-4ab0-f64e-724ed4f08bbc"
      },
      "execution_count": null,
      "outputs": [
        {
          "output_type": "execute_result",
          "data": {
            "text/plain": [
              "PosixPath('models/01_pytorch_workflow_model_1 .pth')"
            ]
          },
          "metadata": {},
          "execution_count": 51
        }
      ]
    },
    {
      "cell_type": "code",
      "source": [
        "## Neural network classification\n",
        "#1- Binary classification\n",
        "#2- Multiclass classification\n",
        "#3- Multilabel classification\n",
        "\n",
        "import sklearn\n",
        "from sklearn.datasets import make_circles\n",
        "import matplotlib.pyplot as plt\n",
        "n_samples=1000\n",
        "## create circles\n",
        "X,y=make_circles(n_samples,noise=0.03,random_state=42)\n",
        "len(X),len(y)\n",
        "\n",
        "## Make dataframe pf the circle data\n",
        "import pandas as pd\n",
        "circles=pd.DataFrame({\"X1\": X[:,0],\"X2\":X[:,1],\"label\":y})\n",
        "circles.head(10)\n",
        "\n",
        "\n"
      ],
      "metadata": {
        "id": "latCNJFYCrSq",
        "colab": {
          "base_uri": "https://localhost:8080/",
          "height": 363
        },
        "outputId": "a591bafe-c3b6-4198-afe0-60c882e90091"
      },
      "execution_count": null,
      "outputs": [
        {
          "output_type": "execute_result",
          "data": {
            "text/plain": [
              "         X1        X2  label\n",
              "0  0.754246  0.231481      1\n",
              "1 -0.756159  0.153259      1\n",
              "2 -0.815392  0.173282      1\n",
              "3 -0.393731  0.692883      1\n",
              "4  0.442208 -0.896723      0\n",
              "5 -0.479646  0.676435      1\n",
              "6 -0.013648  0.803349      1\n",
              "7  0.771513  0.147760      1\n",
              "8 -0.169322 -0.793456      1\n",
              "9 -0.121486  1.021509      0"
            ],
            "text/html": [
              "\n",
              "  <div id=\"df-4a5bbdd3-3178-4035-93d4-0c6312310e79\" class=\"colab-df-container\">\n",
              "    <div>\n",
              "<style scoped>\n",
              "    .dataframe tbody tr th:only-of-type {\n",
              "        vertical-align: middle;\n",
              "    }\n",
              "\n",
              "    .dataframe tbody tr th {\n",
              "        vertical-align: top;\n",
              "    }\n",
              "\n",
              "    .dataframe thead th {\n",
              "        text-align: right;\n",
              "    }\n",
              "</style>\n",
              "<table border=\"1\" class=\"dataframe\">\n",
              "  <thead>\n",
              "    <tr style=\"text-align: right;\">\n",
              "      <th></th>\n",
              "      <th>X1</th>\n",
              "      <th>X2</th>\n",
              "      <th>label</th>\n",
              "    </tr>\n",
              "  </thead>\n",
              "  <tbody>\n",
              "    <tr>\n",
              "      <th>0</th>\n",
              "      <td>0.754246</td>\n",
              "      <td>0.231481</td>\n",
              "      <td>1</td>\n",
              "    </tr>\n",
              "    <tr>\n",
              "      <th>1</th>\n",
              "      <td>-0.756159</td>\n",
              "      <td>0.153259</td>\n",
              "      <td>1</td>\n",
              "    </tr>\n",
              "    <tr>\n",
              "      <th>2</th>\n",
              "      <td>-0.815392</td>\n",
              "      <td>0.173282</td>\n",
              "      <td>1</td>\n",
              "    </tr>\n",
              "    <tr>\n",
              "      <th>3</th>\n",
              "      <td>-0.393731</td>\n",
              "      <td>0.692883</td>\n",
              "      <td>1</td>\n",
              "    </tr>\n",
              "    <tr>\n",
              "      <th>4</th>\n",
              "      <td>0.442208</td>\n",
              "      <td>-0.896723</td>\n",
              "      <td>0</td>\n",
              "    </tr>\n",
              "    <tr>\n",
              "      <th>5</th>\n",
              "      <td>-0.479646</td>\n",
              "      <td>0.676435</td>\n",
              "      <td>1</td>\n",
              "    </tr>\n",
              "    <tr>\n",
              "      <th>6</th>\n",
              "      <td>-0.013648</td>\n",
              "      <td>0.803349</td>\n",
              "      <td>1</td>\n",
              "    </tr>\n",
              "    <tr>\n",
              "      <th>7</th>\n",
              "      <td>0.771513</td>\n",
              "      <td>0.147760</td>\n",
              "      <td>1</td>\n",
              "    </tr>\n",
              "    <tr>\n",
              "      <th>8</th>\n",
              "      <td>-0.169322</td>\n",
              "      <td>-0.793456</td>\n",
              "      <td>1</td>\n",
              "    </tr>\n",
              "    <tr>\n",
              "      <th>9</th>\n",
              "      <td>-0.121486</td>\n",
              "      <td>1.021509</td>\n",
              "      <td>0</td>\n",
              "    </tr>\n",
              "  </tbody>\n",
              "</table>\n",
              "</div>\n",
              "    <div class=\"colab-df-buttons\">\n",
              "\n",
              "  <div class=\"colab-df-container\">\n",
              "    <button class=\"colab-df-convert\" onclick=\"convertToInteractive('df-4a5bbdd3-3178-4035-93d4-0c6312310e79')\"\n",
              "            title=\"Convert this dataframe to an interactive table.\"\n",
              "            style=\"display:none;\">\n",
              "\n",
              "  <svg xmlns=\"http://www.w3.org/2000/svg\" height=\"24px\" viewBox=\"0 -960 960 960\">\n",
              "    <path d=\"M120-120v-720h720v720H120Zm60-500h600v-160H180v160Zm220 220h160v-160H400v160Zm0 220h160v-160H400v160ZM180-400h160v-160H180v160Zm440 0h160v-160H620v160ZM180-180h160v-160H180v160Zm440 0h160v-160H620v160Z\"/>\n",
              "  </svg>\n",
              "    </button>\n",
              "\n",
              "  <style>\n",
              "    .colab-df-container {\n",
              "      display:flex;\n",
              "      gap: 12px;\n",
              "    }\n",
              "\n",
              "    .colab-df-convert {\n",
              "      background-color: #E8F0FE;\n",
              "      border: none;\n",
              "      border-radius: 50%;\n",
              "      cursor: pointer;\n",
              "      display: none;\n",
              "      fill: #1967D2;\n",
              "      height: 32px;\n",
              "      padding: 0 0 0 0;\n",
              "      width: 32px;\n",
              "    }\n",
              "\n",
              "    .colab-df-convert:hover {\n",
              "      background-color: #E2EBFA;\n",
              "      box-shadow: 0px 1px 2px rgba(60, 64, 67, 0.3), 0px 1px 3px 1px rgba(60, 64, 67, 0.15);\n",
              "      fill: #174EA6;\n",
              "    }\n",
              "\n",
              "    .colab-df-buttons div {\n",
              "      margin-bottom: 4px;\n",
              "    }\n",
              "\n",
              "    [theme=dark] .colab-df-convert {\n",
              "      background-color: #3B4455;\n",
              "      fill: #D2E3FC;\n",
              "    }\n",
              "\n",
              "    [theme=dark] .colab-df-convert:hover {\n",
              "      background-color: #434B5C;\n",
              "      box-shadow: 0px 1px 3px 1px rgba(0, 0, 0, 0.15);\n",
              "      filter: drop-shadow(0px 1px 2px rgba(0, 0, 0, 0.3));\n",
              "      fill: #FFFFFF;\n",
              "    }\n",
              "  </style>\n",
              "\n",
              "    <script>\n",
              "      const buttonEl =\n",
              "        document.querySelector('#df-4a5bbdd3-3178-4035-93d4-0c6312310e79 button.colab-df-convert');\n",
              "      buttonEl.style.display =\n",
              "        google.colab.kernel.accessAllowed ? 'block' : 'none';\n",
              "\n",
              "      async function convertToInteractive(key) {\n",
              "        const element = document.querySelector('#df-4a5bbdd3-3178-4035-93d4-0c6312310e79');\n",
              "        const dataTable =\n",
              "          await google.colab.kernel.invokeFunction('convertToInteractive',\n",
              "                                                    [key], {});\n",
              "        if (!dataTable) return;\n",
              "\n",
              "        const docLinkHtml = 'Like what you see? Visit the ' +\n",
              "          '<a target=\"_blank\" href=https://colab.research.google.com/notebooks/data_table.ipynb>data table notebook</a>'\n",
              "          + ' to learn more about interactive tables.';\n",
              "        element.innerHTML = '';\n",
              "        dataTable['output_type'] = 'display_data';\n",
              "        await google.colab.output.renderOutput(dataTable, element);\n",
              "        const docLink = document.createElement('div');\n",
              "        docLink.innerHTML = docLinkHtml;\n",
              "        element.appendChild(docLink);\n",
              "      }\n",
              "    </script>\n",
              "  </div>\n",
              "\n",
              "\n",
              "<div id=\"df-2e5e4ae0-c029-47cc-b225-4873b839006b\">\n",
              "  <button class=\"colab-df-quickchart\" onclick=\"quickchart('df-2e5e4ae0-c029-47cc-b225-4873b839006b')\"\n",
              "            title=\"Suggest charts\"\n",
              "            style=\"display:none;\">\n",
              "\n",
              "<svg xmlns=\"http://www.w3.org/2000/svg\" height=\"24px\"viewBox=\"0 0 24 24\"\n",
              "     width=\"24px\">\n",
              "    <g>\n",
              "        <path d=\"M19 3H5c-1.1 0-2 .9-2 2v14c0 1.1.9 2 2 2h14c1.1 0 2-.9 2-2V5c0-1.1-.9-2-2-2zM9 17H7v-7h2v7zm4 0h-2V7h2v10zm4 0h-2v-4h2v4z\"/>\n",
              "    </g>\n",
              "</svg>\n",
              "  </button>\n",
              "\n",
              "<style>\n",
              "  .colab-df-quickchart {\n",
              "      --bg-color: #E8F0FE;\n",
              "      --fill-color: #1967D2;\n",
              "      --hover-bg-color: #E2EBFA;\n",
              "      --hover-fill-color: #174EA6;\n",
              "      --disabled-fill-color: #AAA;\n",
              "      --disabled-bg-color: #DDD;\n",
              "  }\n",
              "\n",
              "  [theme=dark] .colab-df-quickchart {\n",
              "      --bg-color: #3B4455;\n",
              "      --fill-color: #D2E3FC;\n",
              "      --hover-bg-color: #434B5C;\n",
              "      --hover-fill-color: #FFFFFF;\n",
              "      --disabled-bg-color: #3B4455;\n",
              "      --disabled-fill-color: #666;\n",
              "  }\n",
              "\n",
              "  .colab-df-quickchart {\n",
              "    background-color: var(--bg-color);\n",
              "    border: none;\n",
              "    border-radius: 50%;\n",
              "    cursor: pointer;\n",
              "    display: none;\n",
              "    fill: var(--fill-color);\n",
              "    height: 32px;\n",
              "    padding: 0;\n",
              "    width: 32px;\n",
              "  }\n",
              "\n",
              "  .colab-df-quickchart:hover {\n",
              "    background-color: var(--hover-bg-color);\n",
              "    box-shadow: 0 1px 2px rgba(60, 64, 67, 0.3), 0 1px 3px 1px rgba(60, 64, 67, 0.15);\n",
              "    fill: var(--button-hover-fill-color);\n",
              "  }\n",
              "\n",
              "  .colab-df-quickchart-complete:disabled,\n",
              "  .colab-df-quickchart-complete:disabled:hover {\n",
              "    background-color: var(--disabled-bg-color);\n",
              "    fill: var(--disabled-fill-color);\n",
              "    box-shadow: none;\n",
              "  }\n",
              "\n",
              "  .colab-df-spinner {\n",
              "    border: 2px solid var(--fill-color);\n",
              "    border-color: transparent;\n",
              "    border-bottom-color: var(--fill-color);\n",
              "    animation:\n",
              "      spin 1s steps(1) infinite;\n",
              "  }\n",
              "\n",
              "  @keyframes spin {\n",
              "    0% {\n",
              "      border-color: transparent;\n",
              "      border-bottom-color: var(--fill-color);\n",
              "      border-left-color: var(--fill-color);\n",
              "    }\n",
              "    20% {\n",
              "      border-color: transparent;\n",
              "      border-left-color: var(--fill-color);\n",
              "      border-top-color: var(--fill-color);\n",
              "    }\n",
              "    30% {\n",
              "      border-color: transparent;\n",
              "      border-left-color: var(--fill-color);\n",
              "      border-top-color: var(--fill-color);\n",
              "      border-right-color: var(--fill-color);\n",
              "    }\n",
              "    40% {\n",
              "      border-color: transparent;\n",
              "      border-right-color: var(--fill-color);\n",
              "      border-top-color: var(--fill-color);\n",
              "    }\n",
              "    60% {\n",
              "      border-color: transparent;\n",
              "      border-right-color: var(--fill-color);\n",
              "    }\n",
              "    80% {\n",
              "      border-color: transparent;\n",
              "      border-right-color: var(--fill-color);\n",
              "      border-bottom-color: var(--fill-color);\n",
              "    }\n",
              "    90% {\n",
              "      border-color: transparent;\n",
              "      border-bottom-color: var(--fill-color);\n",
              "    }\n",
              "  }\n",
              "</style>\n",
              "\n",
              "  <script>\n",
              "    async function quickchart(key) {\n",
              "      const quickchartButtonEl =\n",
              "        document.querySelector('#' + key + ' button');\n",
              "      quickchartButtonEl.disabled = true;  // To prevent multiple clicks.\n",
              "      quickchartButtonEl.classList.add('colab-df-spinner');\n",
              "      try {\n",
              "        const charts = await google.colab.kernel.invokeFunction(\n",
              "            'suggestCharts', [key], {});\n",
              "      } catch (error) {\n",
              "        console.error('Error during call to suggestCharts:', error);\n",
              "      }\n",
              "      quickchartButtonEl.classList.remove('colab-df-spinner');\n",
              "      quickchartButtonEl.classList.add('colab-df-quickchart-complete');\n",
              "    }\n",
              "    (() => {\n",
              "      let quickchartButtonEl =\n",
              "        document.querySelector('#df-2e5e4ae0-c029-47cc-b225-4873b839006b button');\n",
              "      quickchartButtonEl.style.display =\n",
              "        google.colab.kernel.accessAllowed ? 'block' : 'none';\n",
              "    })();\n",
              "  </script>\n",
              "</div>\n",
              "\n",
              "    </div>\n",
              "  </div>\n"
            ],
            "application/vnd.google.colaboratory.intrinsic+json": {
              "type": "dataframe",
              "variable_name": "circles",
              "summary": "{\n  \"name\": \"circles\",\n  \"rows\": 1000,\n  \"fields\": [\n    {\n      \"column\": \"X1\",\n      \"properties\": {\n        \"dtype\": \"number\",\n        \"std\": 0.6398365674574613,\n        \"min\": -1.0595024599098635,\n        \"max\": 1.0337117525463373,\n        \"num_unique_values\": 1000,\n        \"samples\": [\n          -0.3751930206933384,\n          0.015380346701456493,\n          -0.7027835978832848\n        ],\n        \"semantic_type\": \"\",\n        \"description\": \"\"\n      }\n    },\n    {\n      \"column\": \"X2\",\n      \"properties\": {\n        \"dtype\": \"number\",\n        \"std\": 0.6411559581015384,\n        \"min\": -1.0677683182718436,\n        \"max\": 1.0360036756154805,\n        \"num_unique_values\": 1000,\n        \"samples\": [\n          0.6826597225888621,\n          0.9600260220697324,\n          -0.3147169925147762\n        ],\n        \"semantic_type\": \"\",\n        \"description\": \"\"\n      }\n    },\n    {\n      \"column\": \"label\",\n      \"properties\": {\n        \"dtype\": \"number\",\n        \"std\": 0,\n        \"min\": 0,\n        \"max\": 1,\n        \"num_unique_values\": 2,\n        \"samples\": [\n          0,\n          1\n        ],\n        \"semantic_type\": \"\",\n        \"description\": \"\"\n      }\n    }\n  ]\n}"
            }
          },
          "metadata": {},
          "execution_count": 52
        }
      ]
    },
    {
      "cell_type": "code",
      "source": [
        "import matplotlib.pyplot as plt\n",
        "plt.scatter(x=X[:,0],y=X[:,1],c=y,cmap=plt.cm.RdYlBu)\n",
        "#"
      ],
      "metadata": {
        "id": "UZTfEkYqFFH5",
        "colab": {
          "base_uri": "https://localhost:8080/",
          "height": 447
        },
        "outputId": "fbd0772a-fdbf-465d-8e75-c12641a2ca54"
      },
      "execution_count": null,
      "outputs": [
        {
          "output_type": "execute_result",
          "data": {
            "text/plain": [
              "<matplotlib.collections.PathCollection at 0x7f87fb60ccd0>"
            ]
          },
          "metadata": {},
          "execution_count": 53
        },
        {
          "output_type": "display_data",
          "data": {
            "text/plain": [
              "<Figure size 640x480 with 1 Axes>"
            ],
            "image/png": "[encoded data removed]"
          },
          "metadata": {}
        }
      ]
    },
    {
      "cell_type": "code",
      "source": [
        "## Check the input and outout shapes\n",
        "X.shape,y.shape\n",
        "\n",
        "X_sample =X[0]\n",
        "y_sample = y[0]\n",
        "X_sample,y_sample\n",
        "\n",
        "## Turn data into samples\n",
        "import torch\n",
        "X= torch.from_numpy(X).type(torch.float)\n",
        "y=torch.from_numpy(y).type(torch.float)\n",
        "X[:5],y[:5]\n",
        "\n",
        "## Split data into train and test split\n",
        "from sklearn.model_selection import train_test_split\n",
        "X_train,X_test,y_train,y_test=train_test_split(X,y,test_size=0.2,random_state=42)\n",
        "\n"
      ],
      "metadata": {
        "id": "blgp4eU86T5a"
      },
      "execution_count": null,
      "outputs": []
    },
    {
      "cell_type": "code",
      "source": [
        "len(X_train),len(X_test),len(y_train),len(y_test)"
      ],
      "metadata": {
        "id": "BIVqXZweX0Pz",
        "colab": {
          "base_uri": "https://localhost:8080/"
        },
        "outputId": "f3bdbcac-2f02-4d85-8783-dec071705ccf"
      },
      "execution_count": null,
      "outputs": [
        {
          "output_type": "execute_result",
          "data": {
            "text/plain": [
              "(800, 200, 800, 200)"
            ]
          },
          "metadata": {},
          "execution_count": 55
        }
      ]
    },
    {
      "cell_type": "code",
      "source": [
        "## Building a model\n",
        "import torch\n",
        "from torch import nn\n",
        "## device agnostic code\n",
        "device = \"cuda\" if torch.cuda.is_available() else \"cpu\"\n",
        "device\n"
      ],
      "metadata": {
        "colab": {
          "base_uri": "https://localhost:8080/",
          "height": 35
        },
        "id": "zzEC2h-2bHFE",
        "outputId": "bdf0120e-8f55-40ac-a1e0-4bfee3ac2a74"
      },
      "execution_count": null,
      "outputs": [
        {
          "output_type": "execute_result",
          "data": {
            "text/plain": [
              "'cuda'"
            ],
            "application/vnd.google.colaboratory.intrinsic+json": {
              "type": "string"
            }
          },
          "metadata": {},
          "execution_count": 56
        }
      ]
    },
    {
      "cell_type": "code",
      "source": [
        " ## Construct a model\n",
        "class CircleModelV0(nn.Module):\n",
        "   def __init__(self):\n",
        "     super().__init__()\n",
        "     self.layer_1=nn.Linear(in_features=2,out_features=5)\n",
        "     self.layer_2=nn.Linear(in_features=5,out_features=1)\n",
        "   def forward(self,x:torch.Tensor)->torch.Tensor:\n",
        "     return self.layer_2(self.layer_1(x))\n",
        "\n",
        "model_0=CircleModelV0().to(device)\n",
        "model_0"
      ],
      "metadata": {
        "colab": {
          "base_uri": "https://localhost:8080/"
        },
        "id": "G3Rq3tGBc6hH",
        "outputId": "8e23b879-218d-4bef-faab-e19e51f864fc"
      },
      "execution_count": null,
      "outputs": [
        {
          "output_type": "execute_result",
          "data": {
            "text/plain": [
              "CircleModelV0(\n",
              "  (layer_1): Linear(in_features=2, out_features=5, bias=True)\n",
              "  (layer_2): Linear(in_features=5, out_features=1, bias=True)\n",
              ")"
            ]
          },
          "metadata": {},
          "execution_count": 57
        }
      ]
    },
    {
      "cell_type": "code",
      "source": [
        "model_0 = nn.Sequential(\n",
        "    nn.Linear(in_features=2,out_features=5),\n",
        "    nn.Linear(in_features=5,out_features=1)).to(device)\n",
        "model_0\n"
      ],
      "metadata": {
        "colab": {
          "base_uri": "https://localhost:8080/"
        },
        "id": "aeX9fz8bihD7",
        "outputId": "b3e2a179-452d-46f6-c0f7-5e8a4b8a08ad"
      },
      "execution_count": null,
      "outputs": [
        {
          "output_type": "execute_result",
          "data": {
            "text/plain": [
              "Sequential(\n",
              "  (0): Linear(in_features=2, out_features=5, bias=True)\n",
              "  (1): Linear(in_features=5, out_features=1, bias=True)\n",
              ")"
            ]
          },
          "metadata": {},
          "execution_count": 58
        }
      ]
    },
    {
      "cell_type": "code",
      "source": [
        "## Make predictions\n",
        "with torch.inference_mode():\n",
        "  untrained_preds = model_0(X_test.to(device))\n",
        "untrained_preds[:5]\n",
        "y_test[:10]\n",
        "\n"
      ],
      "metadata": {
        "colab": {
          "base_uri": "https://localhost:8080/"
        },
        "id": "WKk-UKrXjBZ_",
        "outputId": "b198c244-0f83-46ac-f88e-e64d8ab12ce8"
      },
      "execution_count": null,
      "outputs": [
        {
          "output_type": "execute_result",
          "data": {
            "text/plain": [
              "tensor([1., 0., 1., 0., 1., 1., 0., 0., 1., 0.])"
            ]
          },
          "metadata": {},
          "execution_count": 60
        }
      ]
    },
    {
      "cell_type": "code",
      "source": [
        "## Setup loss function and optimizer\n",
        "#For example for regression you might want MAE or  MSE\n",
        "#For classification you might want binary cross entropy\n",
        "#And for optimizers , two of the most common and userful are SGD AND ADAM\n",
        "\n",
        "loss_fn = nn.BCEWithLogitsLoss\n",
        "optimizer=torch.optim.SGD(params=model_1.parameters(),lr=0.1)\n",
        "model_0.state_dict()\n",
        "\n",
        "\n"
      ],
      "metadata": {
        "colab": {
          "base_uri": "https://localhost:8080/"
        },
        "id": "Nn0Vfa-azwc2",
        "outputId": "66d435de-5b12-4f5a-f918-f759ebcf3a8d"
      },
      "execution_count": null,
      "outputs": [
        {
          "output_type": "execute_result",
          "data": {
            "text/plain": [
              "OrderedDict([('0.weight',\n",
              "              tensor([[ 0.4691, -0.5582],\n",
              "                      [-0.3260, -0.1997],\n",
              "                      [-0.4252,  0.0667],\n",
              "                      [-0.6984,  0.6386],\n",
              "                      [-0.6007,  0.5459]], device='cuda:0')),\n",
              "             ('0.bias',\n",
              "              tensor([ 0.1177, -0.2296,  0.4370,  0.1102,  0.5713], device='cuda:0')),\n",
              "             ('1.weight',\n",
              "              tensor([[ 0.0489, -0.1410,  0.1202, -0.1213,  0.1882]], device='cuda:0')),\n",
              "             ('1.bias', tensor([0.3993], device='cuda:0'))])"
            ]
          },
          "metadata": {},
          "execution_count": 63
        }
      ]
    },
    {
      "cell_type": "code",
      "source": [
        "## Calculate accuracy\n",
        "def accuracy_fn(y_true,y_pred):\n",
        "  correct = torch.eq(y_true,y_pred).sum().item()\n",
        "  acc = (correct/len(y_pred))*100\n",
        "  return acc\n",
        "\n"
      ],
      "metadata": {
        "id": "35cc7CMy3i0p"
      },
      "execution_count": null,
      "outputs": []
    },
    {
      "cell_type": "code",
      "source": [],
      "metadata": {
        "id": "y_S1qewKAKld"
      },
      "execution_count": null,
      "outputs": []
    }
  ]
}